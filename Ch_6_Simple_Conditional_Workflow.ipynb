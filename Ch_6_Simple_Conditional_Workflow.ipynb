{
  "nbformat": 4,
  "nbformat_minor": 0,
  "metadata": {
    "colab": {
      "provenance": []
    },
    "kernelspec": {
      "name": "python3",
      "display_name": "Python 3"
    },
    "language_info": {
      "name": "python"
    }
  },
  "cells": [
    {
      "cell_type": "markdown",
      "source": [
        "## Quadratic Equation Workflow\n",
        "ax^2 + bx + c = 0\n",
        "\n",
        "A quadration equation has 2 roots.\n",
        "d(Discriminant) = b^2-4ac\n",
        "\n",
        "if d < 0 => no real roots\n",
        "if d==0 => 1 repeated roots\n",
        "if d > 0 => 2 real roots\n",
        "\n",
        "r1 = (-b+ sqrt(d))/2a\n",
        "\n",
        "r2 = (-b- sqrt(d))/2a\n",
        "\n",
        "r = -b/2a\n",
        "\n",
        "\n"
      ],
      "metadata": {
        "id": "87GuQEF78NYZ"
      }
    },
    {
      "cell_type": "code",
      "source": [
        "%%capture output\n",
        "pip install langgraph langchain"
      ],
      "metadata": {
        "id": "mir7CKXU9V0W"
      },
      "execution_count": 2,
      "outputs": []
    },
    {
      "cell_type": "code",
      "source": [
        "from langgraph.graph import StateGraph, START, END\n",
        "from typing import TypedDict, Literal"
      ],
      "metadata": {
        "id": "Va80gg8i8QH_"
      },
      "execution_count": 3,
      "outputs": []
    },
    {
      "cell_type": "code",
      "source": [
        "class QuadState(TypedDict):\n",
        "  a:int\n",
        "  b:int\n",
        "  c:int\n",
        "  equation: str\n",
        "  discriminant: float\n",
        "  result: str\n",
        ""
      ],
      "metadata": {
        "id": "RY9y7Ovk9Sv8"
      },
      "execution_count": 4,
      "outputs": []
    },
    {
      "cell_type": "code",
      "source": [
        "def show_equation(state: QuadState):\n",
        "  equation = f'{state[\"a\"]}x2{state[\"b\"]}x{state[\"c\"]}'\n",
        "  return {'equation': equation}\n"
      ],
      "metadata": {
        "id": "K7h6zTdV9tvZ"
      },
      "execution_count": 10,
      "outputs": []
    },
    {
      "cell_type": "code",
      "source": [
        "def calculate_discriminant(state:QuadState):\n",
        "  discriminant = state[\"b\"]**2 - (4*state[\"a\"]*state[\"c\"])\n",
        "  return {'discriminant': discriminant}"
      ],
      "metadata": {
        "id": "cmiJvkRz-fl0"
      },
      "execution_count": 11,
      "outputs": []
    },
    {
      "cell_type": "code",
      "source": [
        "def real_roots(state:QuadState):\n",
        "  root1 = (-state['b'] +state['discriminant']**0.5)/2* state['a']\n",
        "  root2 = (-state['b'] -state['discriminant']**0.5)/2* state['a']\n",
        "  result = f'The roots are {root1} and {root2}'\n",
        "  return {'result': result}"
      ],
      "metadata": {
        "id": "qBXl99x4AUFQ"
      },
      "execution_count": 15,
      "outputs": []
    },
    {
      "cell_type": "code",
      "source": [
        "def repeated_roots(state: QuadState):\n",
        "  root = -state['b']/2* state['a']\n",
        "  result = f'Only repeating root is {root}'\n",
        "  return {'result': result}\n"
      ],
      "metadata": {
        "id": "JkHz_4RSAXuC"
      },
      "execution_count": 17,
      "outputs": []
    },
    {
      "cell_type": "code",
      "source": [
        "def no_real_roots(state:QuadState):\n",
        "  result = f'No Real root'\n",
        "  return {'result': result}"
      ],
      "metadata": {
        "id": "UjXSQv3eDZ8a"
      },
      "execution_count": 18,
      "outputs": []
    },
    {
      "cell_type": "code",
      "source": [
        "# This is just a conditional function or a routing function, whose input will be state and whose output will be name of one of the functions\n",
        "def check_condition(state:QuadState) -> Literal[\"real_roots\", \"repeated_roots\", \"no_real_roots\"]:\n",
        "  if state['discriminant']>0:\n",
        "    return \"real_roots\"\n",
        "  elif state['discriminant'] == 0:\n",
        "    return \"repeated_roots\"\n",
        "  else:\n",
        "    return \"no_real_roots\""
      ],
      "metadata": {
        "id": "LVAEw1tTDiVH"
      },
      "execution_count": 19,
      "outputs": []
    },
    {
      "cell_type": "code",
      "source": [
        "graph = StateGraph(QuadState)\n",
        "\n",
        "graph.add_node('show_equation', show_equation)\n",
        "graph.add_node('calculate_discriminant', calculate_discriminant)\n",
        "graph.add_node('real_roots', real_roots)\n",
        "graph.add_node('repeated_roots', repeated_roots)\n",
        "graph.add_node('no_real_roots', no_real_roots)\n",
        "\n",
        "graph.add_edge(START, 'show_equation')\n",
        "graph.add_edge('show_equation', 'calculate_discriminant')\n",
        "graph.add_conditional_edges('calculate_discriminant', check_condition)\n",
        "\n",
        "graph.add_edge('real_roots', END)\n",
        "graph.add_edge('repeated_roots', END)\n",
        "graph.add_edge('no_real_roots', END)\n",
        "\n",
        "workflow = graph.compile()\n"
      ],
      "metadata": {
        "id": "qyoAjOUS9kC3"
      },
      "execution_count": 20,
      "outputs": []
    },
    {
      "cell_type": "code",
      "source": [
        "workflow"
      ],
      "metadata": {
        "colab": {
          "base_uri": "https://localhost:8080/",
          "height": 449
        },
        "id": "FEWwe9qh-7Yf",
        "outputId": "0158f564-2883-4749-c28e-a1181b01e9c4"
      },
      "execution_count": 21,
      "outputs": [
        {
          "output_type": "execute_result",
          "data": {
            "text/plain": [
              "<langgraph.graph.state.CompiledStateGraph object at 0x79d4dfd1ddc0>"
            ],
            "image/png": "[encoded data removed]"
          },
          "metadata": {},
          "execution_count": 21
        }
      ]
    },
    {
      "cell_type": "code",
      "source": [
        "initial_state = {\n",
        "    'a':4,\n",
        "    'b':-5,\n",
        "    'c':-4\n",
        "}\n",
        "\n",
        "workflow.invoke(initial_state)"
      ],
      "metadata": {
        "colab": {
          "base_uri": "https://localhost:8080/"
        },
        "id": "S2ftVPpw-9Qj",
        "outputId": "603b52be-5fb4-445e-a019-748dfb518535"
      },
      "execution_count": 22,
      "outputs": [
        {
          "output_type": "execute_result",
          "data": {
            "text/plain": [
              "{'a': 4,\n",
              " 'b': -5,\n",
              " 'c': -4,\n",
              " 'equation': '4x2-5x-4',\n",
              " 'discriminant': 89,\n",
              " 'result': 'The roots are 28.867962264113206 and -8.867962264113206'}"
            ]
          },
          "metadata": {},
          "execution_count": 22
        }
      ]
    },
    {
      "cell_type": "code",
      "source": [],
      "metadata": {
        "id": "6qSuOsIr_Jom"
      },
      "execution_count": 14,
      "outputs": []
    }
  ]
}