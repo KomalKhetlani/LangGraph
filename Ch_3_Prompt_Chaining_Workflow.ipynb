{
  "nbformat": 4,
  "nbformat_minor": 0,
  "metadata": {
    "colab": {
      "provenance": []
    },
    "kernelspec": {
      "name": "python3",
      "display_name": "Python 3"
    },
    "language_info": {
      "name": "python"
    }
  },
  "cells": [
    {
      "cell_type": "markdown",
      "source": [
        "## Prompt Chaining\n",
        "When we interact multiple times with LLMs\n",
        "In this Workflow, we intend to crate a blog post by first creating an outline of the post."
      ],
      "metadata": {
        "id": "nq9CKCxlgPoQ"
      }
    },
    {
      "cell_type": "code",
      "source": [
        "import os\n",
        "from getpass import getpass\n",
        "\n",
        "os.environ[\"OPENAI_API_KEY\"] = getpass(\"Enter your OpenAI API key: \")"
      ],
      "metadata": {
        "colab": {
          "base_uri": "https://localhost:8080/"
        },
        "id": "S_UASe7xW40x",
        "outputId": "83ea1285-1ea8-428c-bac3-b5c490a2e956"
      },
      "execution_count": 2,
      "outputs": [
        {
          "name": "stdout",
          "output_type": "stream",
          "text": [
            "Enter your OpenAI API key: ··········\n"
          ]
        }
      ]
    },
    {
      "cell_type": "code",
      "source": [
        "%%capture output\n",
        "pip install langgraph langchain langchain_openai"
      ],
      "metadata": {
        "id": "KDIonT17XAPg"
      },
      "execution_count": 48,
      "outputs": []
    },
    {
      "cell_type": "code",
      "source": [
        "from langgraph.graph import StateGraph, START, END\n",
        "from langchain_openai import ChatOpenAI\n",
        "from typing import TypedDict\n"
      ],
      "metadata": {
        "id": "uOia37PmXJ3Q"
      },
      "execution_count": 29,
      "outputs": []
    },
    {
      "cell_type": "code",
      "source": [
        "class Blog_state(TypedDict):\n",
        "  topic: str\n",
        "  outline: str\n",
        "  blog: str"
      ],
      "metadata": {
        "id": "5_XNxwd_XWe1"
      },
      "execution_count": 37,
      "outputs": []
    },
    {
      "cell_type": "code",
      "source": [
        "model = ChatOpenAI()"
      ],
      "metadata": {
        "id": "7VoUjSStXx9X"
      },
      "execution_count": 38,
      "outputs": []
    },
    {
      "cell_type": "code",
      "source": [
        "def generate_outline(state: Blog_state) -> Blog_state:\n",
        "  # Extract topic\n",
        "  topic = state['topic']\n",
        "\n",
        "  # Create a prompt\n",
        "  prompt = f\"Generate a brief outline for a blog post on this topic {topic}\"\n",
        "\n",
        "  outline = model.invoke(prompt).content\n",
        "\n",
        "  state['outline'] = outline\n",
        "\n",
        "  return state\n"
      ],
      "metadata": {
        "id": "vxQaGIo9YFIB"
      },
      "execution_count": 39,
      "outputs": []
    },
    {
      "cell_type": "code",
      "source": [
        "def generate_blog_post(state: Blog_state) -> Blog_state:\n",
        "\n",
        "  # Extract the topic and outline\n",
        "  topic = state['topic']\n",
        "  outline = state['outline']\n",
        "  print('Outline Generated = ', outline)\n",
        "\n",
        "  # Create the prompt\n",
        "  prompt = f\"Generate a blog of less than 200 words on the topic {topic} and whose outline is ths {outline}\"\n",
        "\n",
        "  blog = model.invoke(prompt).content\n",
        "\n",
        "  state['blog'] = blog\n",
        "\n",
        "  return state"
      ],
      "metadata": {
        "id": "MKrHdwJgYoM8"
      },
      "execution_count": 44,
      "outputs": []
    },
    {
      "cell_type": "code",
      "source": [
        "graph = StateGraph(Blog_state)\n",
        "\n",
        "# Add Node\n",
        "graph.add_node('generate_outline', generate_outline)\n",
        "graph. add_node('generate_blog_post', generate_blog_post)\n",
        "\n",
        "# Add Edges\n",
        "graph.add_edge(START, 'generate_outline')\n",
        "graph.add_edge('generate_outline', 'generate_blog_post')\n",
        "graph.add_edge('generate_blog_post', END)\n",
        "\n",
        "# Compile\n",
        "workflow = graph.compile()\n"
      ],
      "metadata": {
        "id": "eOHLaVqYX0B0"
      },
      "execution_count": 45,
      "outputs": []
    },
    {
      "cell_type": "code",
      "source": [
        "from IPython.display import Image\n",
        "Image(workflow.get_graph().draw_mermaid_png())"
      ],
      "metadata": {
        "colab": {
          "base_uri": "https://localhost:8080/",
          "height": 350
        },
        "id": "fmZbYJcTZj4j",
        "outputId": "26517ede-86c0-440b-9866-a849d35eba8f"
      },
      "execution_count": 46,
      "outputs": [
        {
          "output_type": "execute_result",
          "data": {
            "image/png": "[encoded data removed]",
            "text/plain": [
              "<IPython.core.display.Image object>"
            ]
          },
          "metadata": {},
          "execution_count": 46
        }
      ]
    },
    {
      "cell_type": "code",
      "source": [
        "initial_state = {'topic': 'Artificial Intelligence'}\n",
        "final_state = workflow.invoke(initial_state)\n"
      ],
      "metadata": {
        "colab": {
          "base_uri": "https://localhost:8080/"
        },
        "id": "sTtv81GWagZk",
        "outputId": "c37992c0-7202-4d98-f7e4-c27717358f85"
      },
      "execution_count": 47,
      "outputs": [
        {
          "output_type": "stream",
          "name": "stdout",
          "text": [
            "Outline Generated =  I. Introduction\n",
            "- Brief overview of what artificial intelligence is\n",
            "- Importance of artificial intelligence in today's world\n",
            "\n",
            "II. History of Artificial Intelligence\n",
            "- A look at the development of artificial intelligence since its inception\n",
            "- Key milestones in the history of artificial intelligence\n",
            "\n",
            "III. Applications of Artificial Intelligence\n",
            "- How artificial intelligence is being used in various industries such as healthcare, finance, and transportation\n",
            "- Examples of how artificial intelligence is improving efficiency and productivity\n",
            "\n",
            "IV. Ethical and Social Implications of Artificial Intelligence\n",
            "- Discussion on the potential risks and ethical concerns surrounding artificial intelligence\n",
            "- How artificial intelligence is impacting society and the workforce\n",
            "\n",
            "V. The Future of Artificial Intelligence\n",
            "- Predictions on the future of artificial intelligence and how it will continue to evolve\n",
            "- Opportunities and challenges that may arise as artificial intelligence advances\n",
            "\n",
            "VI. Conclusion\n",
            "- Recap of key points discussed in the blog post\n",
            "- Final thoughts on the impact of artificial intelligence on society and the future.\n"
          ]
        }
      ]
    },
    {
      "cell_type": "code",
      "source": [],
      "metadata": {
        "id": "aAjg09iTao-Z"
      },
      "execution_count": null,
      "outputs": []
    }
  ]
}