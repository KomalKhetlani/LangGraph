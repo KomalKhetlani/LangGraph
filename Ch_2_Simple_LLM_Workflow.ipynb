{
  "nbformat": 4,
  "nbformat_minor": 0,
  "metadata": {
    "colab": {
      "provenance": []
    },
    "kernelspec": {
      "name": "python3",
      "display_name": "Python 3"
    },
    "language_info": {
      "name": "python"
    }
  },
  "cells": [
    {
      "cell_type": "markdown",
      "source": [
        "In this We are creating a simple LLM workflow, where a user gives a question and we geenrate an response from LLM.\n",
        "\n"
      ],
      "metadata": {
        "id": "Yt4ySLpTfpTI"
      }
    },
    {
      "cell_type": "code",
      "execution_count": 1,
      "metadata": {
        "colab": {
          "base_uri": "https://localhost:8080/"
        },
        "id": "Ye1-YZEbR-DS",
        "outputId": "a78daaa7-6d5d-4e5c-ba50-6d70aa9f69ca"
      },
      "outputs": [
        {
          "name": "stdout",
          "output_type": "stream",
          "text": [
            "Enter your OpenAI API key: ··········\n"
          ]
        }
      ],
      "source": [
        "import os\n",
        "from getpass import getpass\n",
        "\n",
        "os.environ[\"OPENAI_API_KEY\"] = getpass(\"Enter your OpenAI API key: \")"
      ]
    },
    {
      "cell_type": "code",
      "source": [
        "%%capture output\n",
        "pip install langgraph langchain langchain_openai"
      ],
      "metadata": {
        "id": "p-7z4aaWSlid"
      },
      "execution_count": 18,
      "outputs": []
    },
    {
      "cell_type": "code",
      "source": [
        "from langgraph.graph import StateGraph, START, END\n",
        "from langchain_openai import ChatOpenAI\n",
        "from typing import TypedDict\n"
      ],
      "metadata": {
        "id": "9xz8VwS4TYlZ"
      },
      "execution_count": 11,
      "outputs": []
    },
    {
      "cell_type": "code",
      "source": [
        "model = ChatOpenAI()\n"
      ],
      "metadata": {
        "id": "Ngn4mT3fTvL9"
      },
      "execution_count": 6,
      "outputs": []
    },
    {
      "cell_type": "code",
      "source": [
        "# Create a state\n",
        "class LLMState(TypedDict):\n",
        "  question: str\n",
        "  answer: str\n",
        "\n"
      ],
      "metadata": {
        "id": "qjHG_D92T6j6"
      },
      "execution_count": 7,
      "outputs": []
    },
    {
      "cell_type": "code",
      "source": [
        "def llm_qa(state: LLMState) -> LLMState:\n",
        "  # Extract the question from state\n",
        "  question = state['question']\n",
        "\n",
        "  # Create Prompt\n",
        "  prompt = f'Answer the following question {question}'\n",
        "\n",
        "  # Ask the question to LLM\n",
        "  answer = model.invoke(prompt).content\n",
        "\n",
        "  # Update the answer in the state\n",
        "  state['answer'] = answer\n",
        "\n",
        "  return state"
      ],
      "metadata": {
        "id": "WFmLy4YFUR8v"
      },
      "execution_count": 9,
      "outputs": []
    },
    {
      "cell_type": "code",
      "source": [
        "# Create Our Graph\n",
        "graph = StateGraph(LLMState)\n",
        "\n",
        "# Add Nodes\n",
        "graph.add_node('llm_qa',llm_qa)\n",
        "\n",
        "# Add Edges\n",
        "graph.add_edge(START, 'llm_qa')\n",
        "graph.add_edge('llm_qa', END)\n",
        "\n",
        "# Compile the graph\n",
        "workflow = graph.compile()\n",
        "\n"
      ],
      "metadata": {
        "id": "Z3Ky8wHuUCTX"
      },
      "execution_count": 15,
      "outputs": []
    },
    {
      "cell_type": "code",
      "source": [
        "from IPython.display import Image\n",
        "Image(workflow.get_graph().draw_mermaid_png())"
      ],
      "metadata": {
        "colab": {
          "base_uri": "https://localhost:8080/",
          "height": 251
        },
        "id": "INAAETTGVapz",
        "outputId": "b1cd39aa-65fe-4a77-f362-ffac8b5d2d05"
      },
      "execution_count": 17,
      "outputs": [
        {
          "output_type": "execute_result",
          "data": {
            "image/png": "[encoded data removed]",
            "text/plain": [
              "<IPython.core.display.Image object>"
            ]
          },
          "metadata": {},
          "execution_count": 17
        }
      ]
    },
    {
      "cell_type": "code",
      "source": [
        "# Execute\n",
        "\n",
        "initial_state = {'question':'How far is Delhi from Mumbai'}\n",
        "\n",
        "final_state = workflow.invoke(initial_state)\n",
        "\n",
        "print(final_state)"
      ],
      "metadata": {
        "colab": {
          "base_uri": "https://localhost:8080/"
        },
        "id": "kvk8nFJ3UIAm",
        "outputId": "111b2e83-2127-4d8f-9142-42c0b9d9559d"
      },
      "execution_count": 16,
      "outputs": [
        {
          "output_type": "stream",
          "name": "stdout",
          "text": [
            "{'question': 'How far is Delhi from Mumbai', 'answer': 'The distance between Delhi and Mumbai is approximately 1,419 kilometers (882 miles) when traveling by road.'}\n"
          ]
        }
      ]
    },
    {
      "cell_type": "code",
      "source": [],
      "metadata": {
        "id": "s56v4kTKVTI4"
      },
      "execution_count": null,
      "outputs": []
    }
  ]
}