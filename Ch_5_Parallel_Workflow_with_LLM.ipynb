{
  "nbformat": 4,
  "nbformat_minor": 0,
  "metadata": {
    "colab": {
      "provenance": []
    },
    "kernelspec": {
      "name": "python3",
      "display_name": "Python 3"
    },
    "language_info": {
      "name": "python"
    }
  },
  "cells": [
    {
      "cell_type": "code",
      "execution_count": 1,
      "metadata": {
        "colab": {
          "base_uri": "https://localhost:8080/"
        },
        "id": "Hj_3DUeRdjm3",
        "outputId": "934a8691-9615-4ebd-8f4e-c94091cfe98f"
      },
      "outputs": [
        {
          "name": "stdout",
          "output_type": "stream",
          "text": [
            "Enter your OpenAI API key: ··········\n"
          ]
        }
      ],
      "source": [
        "import os\n",
        "from getpass import getpass\n",
        "\n",
        "os.environ[\"OPENAI_API_KEY\"] = getpass(\"Enter your OpenAI API key: \")"
      ]
    },
    {
      "cell_type": "code",
      "source": [
        "%%capture output\n",
        "pip install langgraph langchain langchain_openai"
      ],
      "metadata": {
        "id": "Hzg8zgzkdyfJ"
      },
      "execution_count": 2,
      "outputs": []
    },
    {
      "cell_type": "code",
      "source": [
        "from langgraph.graph import StateGraph, START, END\n",
        "from langchain_openai import ChatOpenAI\n",
        "from typing import TypedDict, Annotated\n",
        "from pydantic import BaseModel, Field\n",
        "import operator"
      ],
      "metadata": {
        "id": "Yc1pgm8Nd_HL"
      },
      "execution_count": 13,
      "outputs": []
    },
    {
      "cell_type": "code",
      "source": [
        "model = ChatOpenAI(model='gpt-4o-mini')\n"
      ],
      "metadata": {
        "id": "gZJzWaabf9yo"
      },
      "execution_count": 5,
      "outputs": []
    },
    {
      "cell_type": "code",
      "source": [
        "# We are creatign an Evaluation schema to make sure that LLM outputs within this format only.\n",
        "# We have also set a rule that score has to be greater than equal to 0 ad less than equal to 1\n",
        "\n",
        "class EvaluationSchema(BaseModel):\n",
        "  feedback: str = Field(description = 'Detailed Feedback for the Essay')\n",
        "  score: int = Field(description = 'Score out of 10', ge=0, le=10)\n"
      ],
      "metadata": {
        "id": "tUWrMSlZgiFo"
      },
      "execution_count": 6,
      "outputs": []
    },
    {
      "cell_type": "code",
      "source": [
        "# We have created a structured model here, which will output in a structured format as specified\n",
        "structured_model = model.with_structured_output(EvaluationSchema)\n"
      ],
      "metadata": {
        "id": "QENbEmQPhEaj"
      },
      "execution_count": 7,
      "outputs": []
    },
    {
      "cell_type": "code",
      "source": [
        "essay = \"India is emerging as a global hub for Artificial Intelligence (AI), leveraging its vast talent pool, digital infrastructure, and innovative startups. The government’s “AI for All” initiative promotes inclusive growth through AI in sectors like healthcare, agriculture, education, and smart governance. Indian tech companies and research institutes are driving breakthroughs in natural language processing, computer vision, and AI ethics. With growing collaborations between academia and industry, India aims to position itself as a leader in responsible and scalable AI solutions. By combining technological innovation with human-centric values, India is shaping the future of AI for global good.\""
      ],
      "metadata": {
        "id": "_FNHBSE5hr3Y"
      },
      "execution_count": 9,
      "outputs": []
    },
    {
      "cell_type": "code",
      "source": [
        "prompt = f'Evaluate the language quality of the following essay and provide a feedback and assign a score out of 10 \\n {essay}'"
      ],
      "metadata": {
        "id": "gGLjcptAhQcK"
      },
      "execution_count": 10,
      "outputs": []
    },
    {
      "cell_type": "code",
      "source": [
        "structured_model.invoke(prompt)"
      ],
      "metadata": {
        "colab": {
          "base_uri": "https://localhost:8080/"
        },
        "id": "byX4cdfihquF",
        "outputId": "67598618-19c4-4856-99b3-3a7f7a7fd56b"
      },
      "execution_count": 11,
      "outputs": [
        {
          "output_type": "execute_result",
          "data": {
            "text/plain": [
              "EvaluationSchema(feedback=\"The essay presents a strong overview of India's position in the field of Artificial Intelligence, highlighting key initiatives, sectors impacted, and the collaborative efforts between academia and industry. The language is clear and concise, making it easy for the reader to follow the argument. However, it could benefit from more detailed examples or statistics to substantiate the claims made, particularly regarding specific breakthroughs and the effects of the ‘AI for All’ initiative. Additionally, there could be a stronger concluding statement to reinforce the significance of India’s role in the global AI landscape.\", score=8)"
            ]
          },
          "metadata": {},
          "execution_count": 11
        }
      ]
    },
    {
      "cell_type": "code",
      "source": [
        "class UPSCState(TypedDict):\n",
        "  essay: str\n",
        "  language_feedback: str\n",
        "  analysis_feedback: str\n",
        "  clarity_feedback: str\n",
        "  overall_feedback: str\n",
        "  # Individual scores will have a list of scores generated on the basis of various parameters, whioch ultimately will be added to create final score\n",
        "  # We do this to avoid override behavavior by using a reducer function, which is , in this case\n",
        "  # [6] + [7] + [9]\n",
        "  individual_scores: Annotated[list[int], operator.add]\n",
        "  avg_score: float\n",
        "\n"
      ],
      "metadata": {
        "id": "GbBIfpwhh7Jm"
      },
      "execution_count": 20,
      "outputs": []
    },
    {
      "cell_type": "code",
      "source": [
        "def evaluate_language(state: UPSCState):\n",
        "  prompt = f'Evaluate the language quality of the following essay and provide a feedback and assign a score out of 10 \\n {state['essay']}'\n",
        "  output = structured_model.invoke(prompt)\n",
        "  return {'language_feedback': output.feedback, 'individual_scores': [output.score]}\n"
      ],
      "metadata": {
        "id": "p6r-Up6tliIC"
      },
      "execution_count": 21,
      "outputs": []
    },
    {
      "cell_type": "code",
      "source": [
        "def evaluate_analysis(state: UPSCState):\n",
        "  prompt = f'Evaluate the depth of analysis of the following essay and provide a feedback and assign a score out of 10 \\n {state['essay']}'\n",
        "  output = structured_model.invoke(prompt)\n",
        "  return {'analysis_feedback': output.feedback, 'individual_scores': [output.score]}"
      ],
      "metadata": {
        "id": "AoUXlREtmDQP"
      },
      "execution_count": 22,
      "outputs": []
    },
    {
      "cell_type": "code",
      "source": [
        "def evaluate_thought(state: UPSCState):\n",
        "  prompt = f'Evaluate the clarity of thought of the following essay and provide a feedback and assign a score out of 10 \\n {state['essay']}'\n",
        "  output = structured_model.invoke(prompt)\n",
        "  return {'clarity_feedback': output.feedback, 'individual_scores': [output.score]}"
      ],
      "metadata": {
        "id": "RVZ7PT-mmOIq"
      },
      "execution_count": 23,
      "outputs": []
    },
    {
      "cell_type": "code",
      "source": [
        "def final_evaluation(state: UPSCState):\n",
        "  # Summary Feedback\n",
        "  prompt = f'Based on the following feedbacks, create a summarized feedback \\n Language feedback - {state[\"language_feedback\"]} \\n Depth of Analysis feedback - {state[\"analysis_feedback\"]} \\n Clarity of Thought feedback - {state[\"clarity_feedback\"]}'\n",
        "  overall_feedback = model.invoke(prompt).content\n",
        "\n",
        "  # Calculate Average\n",
        "  avg_score = sum(state['individual_scores'])/len(state['individual_scores'])\n",
        "  return {'overall_feedback': overall_feedback, 'avg_score': avg_score}\n"
      ],
      "metadata": {
        "id": "gQTAzn3KmZfY"
      },
      "execution_count": 24,
      "outputs": []
    },
    {
      "cell_type": "code",
      "source": [
        "\n",
        "graph = StateGraph(UPSCState)\n",
        "\n",
        "graph.add_node('evaluate_language', evaluate_language)\n",
        "graph.add_node('evaluate_analysis', evaluate_analysis)\n",
        "graph.add_node('evaluate_thought', evaluate_thought)\n",
        "graph.add_node('final_evaluation', final_evaluation)\n",
        "\n",
        "\n",
        "# Edges\n",
        "graph.add_edge(START, 'evaluate_language')\n",
        "graph.add_edge(START, 'evaluate_analysis')\n",
        "graph.add_edge(START, 'evaluate_thought')\n",
        "\n",
        "graph.add_edge('evaluate_language','final_evaluation')\n",
        "graph.add_edge('evaluate_analysis','final_evaluation')\n",
        "graph.add_edge('evaluate_thought','final_evaluation')\n",
        "\n",
        "graph.add_edge('final_evaluation', END)\n",
        "workflow = graph.compile()"
      ],
      "metadata": {
        "id": "mACzeTSwlJ7E"
      },
      "execution_count": 29,
      "outputs": []
    },
    {
      "cell_type": "code",
      "source": [
        "workflow"
      ],
      "metadata": {
        "colab": {
          "base_uri": "https://localhost:8080/",
          "height": 350
        },
        "id": "wCm7K_xcnhBA",
        "outputId": "aecb32b9-482f-43b9-d452-7e95f4ca3a05"
      },
      "execution_count": 30,
      "outputs": [
        {
          "output_type": "execute_result",
          "data": {
            "text/plain": [
              "<langgraph.graph.state.CompiledStateGraph object at 0x79dc5e2c84a0>"
            ],
            "image/png": "[encoded data removed]"
          },
          "metadata": {},
          "execution_count": 30
        }
      ]
    },
    {
      "cell_type": "code",
      "source": [
        "# Execute\n",
        "initial_state = {\n",
        "    'essay': essay\n",
        "}"
      ],
      "metadata": {
        "id": "ZLywKHnWoFr3"
      },
      "execution_count": 31,
      "outputs": []
    },
    {
      "cell_type": "code",
      "source": [
        "workflow.invoke(initial_state)"
      ],
      "metadata": {
        "colab": {
          "base_uri": "https://localhost:8080/"
        },
        "id": "nND8uAQtoQmu",
        "outputId": "00a2f035-1bf2-4e22-99a4-df38dc19bd1b"
      },
      "execution_count": 32,
      "outputs": [
        {
          "output_type": "execute_result",
          "data": {
            "text/plain": [
              "{'essay': 'India is emerging as a global hub for Artificial Intelligence (AI), leveraging its vast talent pool, digital infrastructure, and innovative startups. The government’s “AI for All” initiative promotes inclusive growth through AI in sectors like healthcare, agriculture, education, and smart governance. Indian tech companies and research institutes are driving breakthroughs in natural language processing, computer vision, and AI ethics. With growing collaborations between academia and industry, India aims to position itself as a leader in responsible and scalable AI solutions. By combining technological innovation with human-centric values, India is shaping the future of AI for global good.',\n",
              " 'language_feedback': 'The essay presents a clear and concise overview of India\\'s role in the emergence of Artificial Intelligence. The language is formal and appropriate for the topic, with a logical structure that highlights key initiatives and contributions. The use of specific examples, such as the \"AI for All\" initiative and the focus on sectors like healthcare and agriculture, strengthens the argument and provides context. However, there could be a deeper exploration of challenges faced or potential obstacles to fully realizing this vision, which would add depth to the analysis. The essay is mostly free of grammatical errors and displays a good command of vocabulary, contributing to a coherent and engaging narrative. Overall, it effectively communicates the message, but could be improved with more nuanced discussion.',\n",
              " 'analysis_feedback': \"The essay provides a concise overview of India's role in artificial intelligence, effectively highlighting its strengths such as a large talent pool, government support, and innovative sectors. However, the analysis is somewhat superficial; while it mentions relevant initiatives and sectors, it lacks a detailed examination of specific examples, challenges, and potential pitfalls related to the growth of AI in India. The discussion could benefit from insights into issues like ethical concerns, data privacy, and the socio-economic implications of AI deployment. Additionally, the mention of collaboration between academia and industry could be expanded to include specific partnerships or projects. Overall, the essay presents a positive outlook but does not delve deeply into the complexities of the topic.\",\n",
              " 'clarity_feedback': \"The essay presents a clear and focused analysis of India's emerging role in the global landscape of Artificial Intelligence. It successfully outlines the key elements contributing to this advancement, such as the government's initiatives, the involvement of tech companies and research institutes, and the focus on responsible AI. Each point flows logically to the next, culminating in a strong conclusion that highlights the potential impact of these efforts on society. However, while the essay covers relevant points, it could benefit from more specific examples or data to support the claims made, which would enhance the overall clarity and depth of thought. Additionally, some phrases could be simplified for better readability. Overall, the essay demonstrates a solid understanding of the topic but could improve in elaboration and specificity.\",\n",
              " 'overall_feedback': '**Summarized Feedback:**\\n\\nThe essay effectively outlines India\\'s role in the emergence of Artificial Intelligence, presenting a clear and structured analysis that highlights key initiatives such as the \"AI for All\" program and the focus on sectors like healthcare and agriculture. The formal language and coherence enhance the narrative, showcasing a good command of vocabulary with minimal grammatical errors. \\n\\nHowever, the analysis could benefit from a deeper exploration of challenges and potential obstacles related to AI development in India, such as ethical concerns, data privacy issues, and the socio-economic implications of AI deployment. More specific examples and data could strengthen the argument, and insights into collaborations between academia and industry would add depth. While the essay offers a positive outlook, it remains somewhat superficial in its examination of complexities and lacks nuanced discussion. Simplifying certain phrases could also improve readability. Overall, the essay demonstrates a solid understanding of the topic but requires elaboration and specificity for enhanced clarity and depth.',\n",
              " 'individual_scores': [6, 8, 8],\n",
              " 'avg_score': 7.333333333333333}"
            ]
          },
          "metadata": {},
          "execution_count": 32
        }
      ]
    },
    {
      "cell_type": "code",
      "source": [],
      "metadata": {
        "id": "VmmiANGeoTIt"
      },
      "execution_count": null,
      "outputs": []
    }
  ]
}