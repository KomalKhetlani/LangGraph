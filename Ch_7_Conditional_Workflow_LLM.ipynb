{
  "nbformat": 4,
  "nbformat_minor": 0,
  "metadata": {
    "colab": {
      "provenance": []
    },
    "kernelspec": {
      "name": "python3",
      "display_name": "Python 3"
    },
    "language_info": {
      "name": "python"
    }
  },
  "cells": [
    {
      "cell_type": "code",
      "execution_count": 1,
      "metadata": {
        "colab": {
          "base_uri": "https://localhost:8080/"
        },
        "id": "naoBk4amFGYE",
        "outputId": "ab05a935-ad7c-4788-991e-70d211943ce4"
      },
      "outputs": [
        {
          "name": "stdout",
          "output_type": "stream",
          "text": [
            "Enter your OpenAI API key: ··········\n"
          ]
        }
      ],
      "source": [
        "import os\n",
        "from getpass import getpass\n",
        "\n",
        "os.environ[\"OPENAI_API_KEY\"] = getpass(\"Enter your OpenAI API key: \")"
      ]
    },
    {
      "cell_type": "code",
      "source": [
        "%%capture output\n",
        "pip install langgraph langchain langchain_openai"
      ],
      "metadata": {
        "id": "yFgpn40yFPtk"
      },
      "execution_count": 2,
      "outputs": []
    },
    {
      "cell_type": "code",
      "source": [
        "from langgraph.graph import StateGraph, START, END\n",
        "from langchain_openai import ChatOpenAI\n",
        "from typing import TypedDict, Literal\n",
        "from pydantic import BaseModel, Field"
      ],
      "metadata": {
        "id": "UIGT9l9LFXoe"
      },
      "execution_count": 3,
      "outputs": []
    },
    {
      "cell_type": "code",
      "source": [
        "model = ChatOpenAI(model='gpt-4o-mini')\n"
      ],
      "metadata": {
        "id": "K-RyKbexGEZc"
      },
      "execution_count": 4,
      "outputs": []
    },
    {
      "cell_type": "code",
      "source": [
        "class SentimentSchema(BaseModel):\n",
        "  sentiment: Literal['positive','negative'] = Field(description = 'Sentiment of the review')"
      ],
      "metadata": {
        "id": "l0gbVgkNHQR0"
      },
      "execution_count": 5,
      "outputs": []
    },
    {
      "cell_type": "code",
      "source": [
        "structured_model = model.with_structured_output(SentimentSchema)\n"
      ],
      "metadata": {
        "id": "4w6cOcFoHzPG"
      },
      "execution_count": 6,
      "outputs": []
    },
    {
      "cell_type": "code",
      "source": [
        "prompt = 'What is the sentiment of the following review - The Food is not good'\n",
        "structured_model.invoke(prompt).sentiment"
      ],
      "metadata": {
        "colab": {
          "base_uri": "https://localhost:8080/",
          "height": 35
        },
        "id": "GefktGzHH5If",
        "outputId": "0df831a8-84e9-4d71-c7bd-3c7f1a1f5280"
      },
      "execution_count": 7,
      "outputs": [
        {
          "output_type": "execute_result",
          "data": {
            "text/plain": [
              "'negative'"
            ],
            "application/vnd.google.colaboratory.intrinsic+json": {
              "type": "string"
            }
          },
          "metadata": {},
          "execution_count": 7
        }
      ]
    },
    {
      "cell_type": "code",
      "source": [
        "class ReviewState(TypedDict):\n",
        "  review: str\n",
        "  sentiment: Literal[\"positive\", \"negative\"]\n",
        "  diagnosis: dict\n",
        "  response: str\n",
        ""
      ],
      "metadata": {
        "id": "wN05ClQ2IHo1"
      },
      "execution_count": 8,
      "outputs": []
    },
    {
      "cell_type": "code",
      "source": [
        "def find_sentiment(state: ReviewState):\n",
        "  prompt = f'Please find the sentiment of the following review \\n {state[\"review\"]}'\n",
        "  sentiment = structured_model.invoke(prompt).sentiment\n",
        "  return {'sentiment': sentiment}"
      ],
      "metadata": {
        "id": "nU-dPAkqIezf"
      },
      "execution_count": 10,
      "outputs": []
    },
    {
      "cell_type": "code",
      "source": [
        "def check_sentiment(state: ReviewState) -> Literal[\"positive_response\", \"run_diagnosis\"]:\n",
        "  if state['sentiment'] == 'positive':\n",
        "    return 'positive_response'\n",
        "  else:\n",
        "    return 'run_diagnosis'\n",
        "\n"
      ],
      "metadata": {
        "id": "J1hUsuv6JQgy"
      },
      "execution_count": 15,
      "outputs": []
    },
    {
      "cell_type": "code",
      "source": [
        "def positive_response(state:ReviewState):\n",
        "  prompt = f\"\"\"Write a warm thank you message in response to this revie: \\n\\n \"{state['review']}\"\\n\n",
        "  Also, Kindly ask the user to leave feedback on our website.\n",
        "\n",
        "  \"\"\"\n",
        "  response = model.invoke(prompt).content\n",
        "  return {'response': response}"
      ],
      "metadata": {
        "id": "UuSMWGN2J3C2"
      },
      "execution_count": 17,
      "outputs": []
    },
    {
      "cell_type": "code",
      "source": [
        "class DiagnosisSchema(BaseModel):\n",
        "  issue_type: Literal[\"UX\", \"Performance\", \"Bug\", \"Support\", \"Other\"] = Field(description = \"The category of issue mentioned in the review\")\n",
        "  tone: Literal[\"angry\", \"frustrated\", \"disappointed\", \"calm\"] = Field(description = \"The emotional tone expressed by the user\")\n",
        "  urgency: Literal[\"low\", \"medium\", \"high\"] = Field(description=\"How urgent or critical the issue appears to be\")"
      ],
      "metadata": {
        "id": "VUWqGRYKKmiM"
      },
      "execution_count": 18,
      "outputs": []
    },
    {
      "cell_type": "code",
      "source": [
        "structured_model2 = model.with_structured_output(DiagnosisSchema)\n"
      ],
      "metadata": {
        "id": "F0VwlOpcLZBp"
      },
      "execution_count": 19,
      "outputs": []
    },
    {
      "cell_type": "code",
      "source": [
        "def run_diagnosis(state: ReviewState):\n",
        "  prompt = f\"\"\"Diagnose this negative review: \\n\\n {state['review']}\\n\n",
        "  Return issue_type, tone and urgency.\n",
        "  \"\"\"\n",
        "  response = structured_model2.invoke(prompt)\n",
        "  return {'diagnosis': response.model_dump()}\n",
        "\n"
      ],
      "metadata": {
        "id": "sRyydDIhKZQL"
      },
      "execution_count": 20,
      "outputs": []
    },
    {
      "cell_type": "code",
      "source": [
        "def negative_response(state:ReviewState):\n",
        "  diagnosis = state['diagnosis']\n",
        "  prompt = f\"\"\"You are a support assistant. The user had a '{diagnosis['issue_type']}' issue, sounded '{diagnosis['tone']}', and market urgency level of {diagnosis['urgency']}\\n Write an empathetic, helpful resolution message. \"\"\"\n",
        "  response = model.invoke(prompt).content\n",
        "  return {'response': response}"
      ],
      "metadata": {
        "id": "Ki5ibJi3KOUD"
      },
      "execution_count": 22,
      "outputs": []
    },
    {
      "cell_type": "code",
      "source": [
        "graph = StateGraph(ReviewState)\n",
        "\n",
        "graph.add_node('find_sentiment', find_sentiment)\n",
        "graph.add_node('positive_response', positive_response)\n",
        "graph.add_node('run_diagnosis', run_diagnosis)\n",
        "graph.add_node('negative_response', negative_response)\n",
        "\n",
        "graph.add_edge(START, 'find_sentiment')\n",
        "graph.add_conditional_edges('find_sentiment', check_sentiment)\n",
        "graph.add_edge('positive_response', END)\n",
        "graph.add_edge('run_diagnosis','negative_response')\n",
        "graph.add_edge('negative_response', END)\n",
        "\n",
        "workflow= graph.compile()\n",
        "workflow\n"
      ],
      "metadata": {
        "colab": {
          "base_uri": "https://localhost:8080/",
          "height": 449
        },
        "id": "JMsMZh_6ICyH",
        "outputId": "28a0cfda-d573-4fe6-955f-5874a597a363"
      },
      "execution_count": 28,
      "outputs": [
        {
          "output_type": "execute_result",
          "data": {
            "text/plain": [
              "<langgraph.graph.state.CompiledStateGraph object at 0x7935beca84a0>"
            ],
            "image/png": "[encoded data removed]"
          },
          "metadata": {},
          "execution_count": 28
        }
      ]
    },
    {
      "cell_type": "code",
      "source": [
        "initial_state = {\n",
        "    'review': 'The movie was bad. Acting could have been better'\n",
        "}"
      ],
      "metadata": {
        "id": "r-3_Bk6gI_Lv"
      },
      "execution_count": 31,
      "outputs": []
    },
    {
      "cell_type": "code",
      "source": [
        "workflow.invoke(initial_state)"
      ],
      "metadata": {
        "colab": {
          "base_uri": "https://localhost:8080/"
        },
        "id": "Hloxn6YEJJ55",
        "outputId": "8f411982-5bb2-47bb-8693-b6fac2f839c3"
      },
      "execution_count": 32,
      "outputs": [
        {
          "output_type": "execute_result",
          "data": {
            "text/plain": [
              "{'review': 'The movie was bad. Acting could have been better',\n",
              " 'sentiment': 'negative',\n",
              " 'diagnosis': {'issue_type': 'Other',\n",
              "  'tone': 'disappointed',\n",
              "  'urgency': 'low'},\n",
              " 'response': \"Subject: We're Here to Help\\n\\nHi [User's Name],\\n\\nI hope this message finds you well. I wanted to reach out regarding your recent experience. I understand that it didn’t meet your expectations, and I sincerely apologize for any disappointment this may have caused.\\n\\nWe value your feedback and are committed to making things right. If you could provide a bit more detail about the specific issue you encountered, I’d be more than happy to assist you further. Your satisfaction is important to us, and we want to ensure you have a positive experience moving forward.\\n\\nThank you for your patience, and I'm here to help!\\n\\nBest regards,\\n\\n[Your Name]  \\n[Your Position]  \\n[Your Contact Information]  \"}"
            ]
          },
          "metadata": {},
          "execution_count": 32
        }
      ]
    },
    {
      "cell_type": "code",
      "source": [],
      "metadata": {
        "id": "cONBOemTJMAo"
      },
      "execution_count": null,
      "outputs": []
    }
  ]
}